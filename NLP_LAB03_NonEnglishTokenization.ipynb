{
  "nbformat": 4,
  "nbformat_minor": 0,
  "metadata": {
    "colab": {
      "provenance": []
    },
    "kernelspec": {
      "name": "python3",
      "display_name": "Python 3"
    },
    "language_info": {
      "name": "python"
    }
  },
  "cells": [
    {
      "cell_type": "markdown",
      "source": [
        "GERMAN TOKENIZER"
      ],
      "metadata": {
        "id": "1MPfvyMtM5Bg"
      }
    },
    {
      "cell_type": "code",
      "source": [
        "import nltk\n",
        "from nltk.tokenize import word_tokenize,sent_tokenize\n",
        "nltk.download('punkt')"
      ],
      "metadata": {
        "colab": {
          "base_uri": "https://localhost:8080/"
        },
        "id": "e8940wIoM-ON",
        "outputId": "a872e48c-4164-4593-f0eb-36276087759d"
      },
      "execution_count": null,
      "outputs": [
        {
          "output_type": "stream",
          "name": "stderr",
          "text": [
            "[nltk_data] Downloading package punkt to /root/nltk_data...\n",
            "[nltk_data]   Unzipping tokenizers/punkt.zip.\n"
          ]
        },
        {
          "output_type": "execute_result",
          "data": {
            "text/plain": [
              "True"
            ]
          },
          "metadata": {},
          "execution_count": 2
        }
      ]
    },
    {
      "cell_type": "code",
      "execution_count": null,
      "metadata": {
        "colab": {
          "base_uri": "https://localhost:8080/"
        },
        "id": "94FLHA-wMWKL",
        "outputId": "d8130255-e935-423d-c8ad-833ac3ab5caf"
      },
      "outputs": [
        {
          "output_type": "stream",
          "name": "stdout",
          "text": [
            "\n",
            "Original string:\n",
            "Leider brauche ich noch etwas mehr Informationen, bevor ich Ihnen einen kurzen deutschen Absatz schreiben kann. Wäre es hilfreich, wenn Sie mir ein Thema oder eine Art von Geschichte vorschlagen, die ich schreiben könnte? Vielleicht möchten Sie mir auch sagen, auf welches Sprachniveau der Absatz ausgerichtet sein soll (Anfänger, Fortgeschrittene)? Mit etwas mehr Kontext kann ich Ihnen gerne einen Text erstellen, der Ihnen gefällt.\n",
            "\n",
            "Sentence tokens\n",
            "\n",
            "Leider brauche ich noch etwas mehr Informationen, bevor ich Ihnen einen kurzen deutschen Absatz schreiben kann.\n",
            "Wäre es hilfreich, wenn Sie mir ein Thema oder eine Art von Geschichte vorschlagen, die ich schreiben könnte?\n",
            "Vielleicht möchten Sie mir auch sagen, auf welches Sprachniveau der Absatz ausgerichtet sein soll (Anfänger, Fortgeschrittene)?\n",
            "Mit etwas mehr Kontext kann ich Ihnen gerne einen Text erstellen, der Ihnen gefällt.\n",
            "\n",
            "\n",
            "Word tokens\n",
            "\n",
            "Leider\n",
            "brauche\n",
            "ich\n",
            "noch\n",
            "etwas\n",
            "mehr\n",
            "Informationen\n",
            ",\n",
            "bevor\n",
            "ich\n",
            "Ihnen\n",
            "einen\n",
            "kurzen\n",
            "deutschen\n",
            "Absatz\n",
            "schreiben\n",
            "kann\n",
            ".\n",
            "Wäre\n",
            "es\n",
            "hilfreich\n",
            ",\n",
            "wenn\n",
            "Sie\n",
            "mir\n",
            "ein\n",
            "Thema\n",
            "oder\n",
            "eine\n",
            "Art\n",
            "von\n",
            "Geschichte\n",
            "vorschlagen\n",
            ",\n",
            "die\n",
            "ich\n",
            "schreiben\n",
            "könnte\n",
            "?\n",
            "Vielleicht\n",
            "möchten\n",
            "Sie\n",
            "mir\n",
            "auch\n",
            "sagen\n",
            ",\n",
            "auf\n",
            "welches\n",
            "Sprachniveau\n",
            "der\n",
            "Absatz\n",
            "ausgerichtet\n",
            "sein\n",
            "soll\n",
            "(\n",
            "Anfänger\n",
            ",\n",
            "Fortgeschrittene\n",
            ")\n",
            "?\n",
            "Mit\n",
            "etwas\n",
            "mehr\n",
            "Kontext\n",
            "kann\n",
            "ich\n",
            "Ihnen\n",
            "gerne\n",
            "einen\n",
            "Text\n",
            "erstellen\n",
            ",\n",
            "der\n",
            "Ihnen\n",
            "gefällt\n",
            ".\n"
          ]
        }
      ],
      "source": [
        "def Tokenize(text):\n",
        "  print(\"\\nOriginal string:\")\n",
        "  print(text)\n",
        "  from nltk.tokenize import sent_tokenize\n",
        "  sent_tokns = sent_tokenize(text, language='german')\n",
        "  word_tokns = word_tokenize(text, language='german')\n",
        "  print(\"\\nSentence tokens\\n\")\n",
        "  for i in sent_tokns:\n",
        "    print(i)\n",
        "  print(\"\\n\\nWord tokens\\n\")\n",
        "  for i in word_tokns:\n",
        "    print(i)\n",
        "Tokenize(\"Leider brauche ich noch etwas mehr Informationen, bevor ich Ihnen einen kurzen deutschen Absatz schreiben kann. Wäre es hilfreich, wenn Sie mir ein Thema oder eine Art von Geschichte vorschlagen, die ich schreiben könnte? Vielleicht möchten Sie mir auch sagen, auf welches Sprachniveau der Absatz ausgerichtet sein soll (Anfänger, Fortgeschrittene)? Mit etwas mehr Kontext kann ich Ihnen gerne einen Text erstellen, der Ihnen gefällt.\")"
      ]
    },
    {
      "cell_type": "code",
      "source": [
        "!pip install inltk"
      ],
      "metadata": {
        "colab": {
          "base_uri": "https://localhost:8080/",
          "height": 1000
        },
        "id": "_VZwxTXXN3F3",
        "outputId": "9d1fe157-03dc-44aa-b73b-01f8fa7fe7f9"
      },
      "execution_count": null,
      "outputs": [
        {
          "output_type": "stream",
          "name": "stdout",
          "text": [
            "Collecting inltk\n",
            "  Downloading inltk-0.9-py3-none-any.whl (13 kB)\n",
            "Requirement already satisfied: aiohttp>=3.5.4 in /usr/local/lib/python3.10/dist-packages (from inltk) (3.9.3)\n",
            "Requirement already satisfied: async-timeout>=3.0.1 in /usr/local/lib/python3.10/dist-packages (from inltk) (4.0.3)\n",
            "Requirement already satisfied: Pillow in /usr/local/lib/python3.10/dist-packages (from inltk) (9.4.0)\n",
            "Requirement already satisfied: beautifulsoup4 in /usr/local/lib/python3.10/dist-packages (from inltk) (4.12.3)\n",
            "Collecting bottleneck (from inltk)\n",
            "  Downloading Bottleneck-1.3.7-cp310-cp310-manylinux_2_5_x86_64.manylinux1_x86_64.manylinux_2_17_x86_64.manylinux2014_x86_64.whl (354 kB)\n",
            "\u001b[2K     \u001b[90m━━━━━━━━━━━━━━━━━━━━━━━━━━━━━━━━━━━━━━━━\u001b[0m \u001b[32m354.0/354.0 kB\u001b[0m \u001b[31m9.1 MB/s\u001b[0m eta \u001b[36m0:00:00\u001b[0m\n",
            "\u001b[?25hRequirement already satisfied: fastprogress>=0.1.19 in /usr/local/lib/python3.10/dist-packages (from inltk) (1.0.3)\n",
            "Requirement already satisfied: matplotlib in /usr/local/lib/python3.10/dist-packages (from inltk) (3.7.1)\n",
            "Requirement already satisfied: numexpr in /usr/local/lib/python3.10/dist-packages (from inltk) (2.9.0)\n",
            "Requirement already satisfied: numpy>=1.15 in /usr/local/lib/python3.10/dist-packages (from inltk) (1.25.2)\n",
            "Collecting nvidia-ml-py3 (from inltk)\n",
            "  Downloading nvidia-ml-py3-7.352.0.tar.gz (19 kB)\n",
            "  Preparing metadata (setup.py) ... \u001b[?25l\u001b[?25hdone\n",
            "Requirement already satisfied: packaging in /usr/local/lib/python3.10/dist-packages (from inltk) (23.2)\n",
            "Requirement already satisfied: pandas in /usr/local/lib/python3.10/dist-packages (from inltk) (1.5.3)\n",
            "Requirement already satisfied: pyyaml in /usr/local/lib/python3.10/dist-packages (from inltk) (6.0.1)\n",
            "Requirement already satisfied: requests in /usr/local/lib/python3.10/dist-packages (from inltk) (2.31.0)\n",
            "Requirement already satisfied: scipy in /usr/local/lib/python3.10/dist-packages (from inltk) (1.11.4)\n",
            "Requirement already satisfied: spacy>=2.0.18 in /usr/local/lib/python3.10/dist-packages (from inltk) (3.7.4)\n",
            "Collecting typing (from inltk)\n",
            "  Downloading typing-3.7.4.3.tar.gz (78 kB)\n",
            "\u001b[2K     \u001b[90m━━━━━━━━━━━━━━━━━━━━━━━━━━━━━━━━━━━━━━━━\u001b[0m \u001b[32m78.6/78.6 kB\u001b[0m \u001b[31m11.3 MB/s\u001b[0m eta \u001b[36m0:00:00\u001b[0m\n",
            "\u001b[?25h  Preparing metadata (setup.py) ... \u001b[?25l\u001b[?25hdone\n",
            "Collecting fastai==1.0.57 (from inltk)\n",
            "  Downloading fastai-1.0.57-py3-none-any.whl (233 kB)\n",
            "\u001b[2K     \u001b[90m━━━━━━━━━━━━━━━━━━━━━━━━━━━━━━━━━━━━━━━━\u001b[0m \u001b[32m233.3/233.3 kB\u001b[0m \u001b[31m18.4 MB/s\u001b[0m eta \u001b[36m0:00:00\u001b[0m\n",
            "\u001b[?25hRequirement already satisfied: sentencepiece in /usr/local/lib/python3.10/dist-packages (from inltk) (0.1.99)\n",
            "Requirement already satisfied: torch>=1.0.0 in /usr/local/lib/python3.10/dist-packages (from fastai==1.0.57->inltk) (2.1.0+cu121)\n",
            "Requirement already satisfied: torchvision in /usr/local/lib/python3.10/dist-packages (from fastai==1.0.57->inltk) (0.16.0+cu121)\n",
            "Requirement already satisfied: aiosignal>=1.1.2 in /usr/local/lib/python3.10/dist-packages (from aiohttp>=3.5.4->inltk) (1.3.1)\n",
            "Requirement already satisfied: attrs>=17.3.0 in /usr/local/lib/python3.10/dist-packages (from aiohttp>=3.5.4->inltk) (23.2.0)\n",
            "Requirement already satisfied: frozenlist>=1.1.1 in /usr/local/lib/python3.10/dist-packages (from aiohttp>=3.5.4->inltk) (1.4.1)\n",
            "Requirement already satisfied: multidict<7.0,>=4.5 in /usr/local/lib/python3.10/dist-packages (from aiohttp>=3.5.4->inltk) (6.0.5)\n",
            "Requirement already satisfied: yarl<2.0,>=1.0 in /usr/local/lib/python3.10/dist-packages (from aiohttp>=3.5.4->inltk) (1.9.4)\n",
            "Requirement already satisfied: spacy-legacy<3.1.0,>=3.0.11 in /usr/local/lib/python3.10/dist-packages (from spacy>=2.0.18->inltk) (3.0.12)\n",
            "Requirement already satisfied: spacy-loggers<2.0.0,>=1.0.0 in /usr/local/lib/python3.10/dist-packages (from spacy>=2.0.18->inltk) (1.0.5)\n",
            "Requirement already satisfied: murmurhash<1.1.0,>=0.28.0 in /usr/local/lib/python3.10/dist-packages (from spacy>=2.0.18->inltk) (1.0.10)\n",
            "Requirement already satisfied: cymem<2.1.0,>=2.0.2 in /usr/local/lib/python3.10/dist-packages (from spacy>=2.0.18->inltk) (2.0.8)\n",
            "Requirement already satisfied: preshed<3.1.0,>=3.0.2 in /usr/local/lib/python3.10/dist-packages (from spacy>=2.0.18->inltk) (3.0.9)\n",
            "Requirement already satisfied: thinc<8.3.0,>=8.2.2 in /usr/local/lib/python3.10/dist-packages (from spacy>=2.0.18->inltk) (8.2.3)\n",
            "Requirement already satisfied: wasabi<1.2.0,>=0.9.1 in /usr/local/lib/python3.10/dist-packages (from spacy>=2.0.18->inltk) (1.1.2)\n",
            "Requirement already satisfied: srsly<3.0.0,>=2.4.3 in /usr/local/lib/python3.10/dist-packages (from spacy>=2.0.18->inltk) (2.4.8)\n",
            "Requirement already satisfied: catalogue<2.1.0,>=2.0.6 in /usr/local/lib/python3.10/dist-packages (from spacy>=2.0.18->inltk) (2.0.10)\n",
            "Requirement already satisfied: weasel<0.4.0,>=0.1.0 in /usr/local/lib/python3.10/dist-packages (from spacy>=2.0.18->inltk) (0.3.4)\n",
            "Requirement already satisfied: typer<0.10.0,>=0.3.0 in /usr/local/lib/python3.10/dist-packages (from spacy>=2.0.18->inltk) (0.9.0)\n",
            "Requirement already satisfied: smart-open<7.0.0,>=5.2.1 in /usr/local/lib/python3.10/dist-packages (from spacy>=2.0.18->inltk) (6.4.0)\n",
            "Requirement already satisfied: tqdm<5.0.0,>=4.38.0 in /usr/local/lib/python3.10/dist-packages (from spacy>=2.0.18->inltk) (4.66.2)\n",
            "Requirement already satisfied: pydantic!=1.8,!=1.8.1,<3.0.0,>=1.7.4 in /usr/local/lib/python3.10/dist-packages (from spacy>=2.0.18->inltk) (2.6.1)\n",
            "Requirement already satisfied: jinja2 in /usr/local/lib/python3.10/dist-packages (from spacy>=2.0.18->inltk) (3.1.3)\n",
            "Requirement already satisfied: setuptools in /usr/local/lib/python3.10/dist-packages (from spacy>=2.0.18->inltk) (67.7.2)\n",
            "Requirement already satisfied: langcodes<4.0.0,>=3.2.0 in /usr/local/lib/python3.10/dist-packages (from spacy>=2.0.18->inltk) (3.3.0)\n",
            "Requirement already satisfied: charset-normalizer<4,>=2 in /usr/local/lib/python3.10/dist-packages (from requests->inltk) (3.3.2)\n",
            "Requirement already satisfied: idna<4,>=2.5 in /usr/local/lib/python3.10/dist-packages (from requests->inltk) (3.6)\n",
            "Requirement already satisfied: urllib3<3,>=1.21.1 in /usr/local/lib/python3.10/dist-packages (from requests->inltk) (2.0.7)\n",
            "Requirement already satisfied: certifi>=2017.4.17 in /usr/local/lib/python3.10/dist-packages (from requests->inltk) (2024.2.2)\n",
            "Requirement already satisfied: soupsieve>1.2 in /usr/local/lib/python3.10/dist-packages (from beautifulsoup4->inltk) (2.5)\n",
            "Requirement already satisfied: contourpy>=1.0.1 in /usr/local/lib/python3.10/dist-packages (from matplotlib->inltk) (1.2.0)\n",
            "Requirement already satisfied: cycler>=0.10 in /usr/local/lib/python3.10/dist-packages (from matplotlib->inltk) (0.12.1)\n",
            "Requirement already satisfied: fonttools>=4.22.0 in /usr/local/lib/python3.10/dist-packages (from matplotlib->inltk) (4.49.0)\n",
            "Requirement already satisfied: kiwisolver>=1.0.1 in /usr/local/lib/python3.10/dist-packages (from matplotlib->inltk) (1.4.5)\n",
            "Requirement already satisfied: pyparsing>=2.3.1 in /usr/local/lib/python3.10/dist-packages (from matplotlib->inltk) (3.1.1)\n",
            "Requirement already satisfied: python-dateutil>=2.7 in /usr/local/lib/python3.10/dist-packages (from matplotlib->inltk) (2.8.2)\n",
            "Requirement already satisfied: pytz>=2020.1 in /usr/local/lib/python3.10/dist-packages (from pandas->inltk) (2023.4)\n",
            "Requirement already satisfied: annotated-types>=0.4.0 in /usr/local/lib/python3.10/dist-packages (from pydantic!=1.8,!=1.8.1,<3.0.0,>=1.7.4->spacy>=2.0.18->inltk) (0.6.0)\n",
            "Requirement already satisfied: pydantic-core==2.16.2 in /usr/local/lib/python3.10/dist-packages (from pydantic!=1.8,!=1.8.1,<3.0.0,>=1.7.4->spacy>=2.0.18->inltk) (2.16.2)\n",
            "Requirement already satisfied: typing-extensions>=4.6.1 in /usr/local/lib/python3.10/dist-packages (from pydantic!=1.8,!=1.8.1,<3.0.0,>=1.7.4->spacy>=2.0.18->inltk) (4.9.0)\n",
            "Requirement already satisfied: six>=1.5 in /usr/local/lib/python3.10/dist-packages (from python-dateutil>=2.7->matplotlib->inltk) (1.16.0)\n",
            "Requirement already satisfied: blis<0.8.0,>=0.7.8 in /usr/local/lib/python3.10/dist-packages (from thinc<8.3.0,>=8.2.2->spacy>=2.0.18->inltk) (0.7.11)\n",
            "Requirement already satisfied: confection<1.0.0,>=0.0.1 in /usr/local/lib/python3.10/dist-packages (from thinc<8.3.0,>=8.2.2->spacy>=2.0.18->inltk) (0.1.4)\n",
            "Requirement already satisfied: filelock in /usr/local/lib/python3.10/dist-packages (from torch>=1.0.0->fastai==1.0.57->inltk) (3.13.1)\n",
            "Requirement already satisfied: sympy in /usr/local/lib/python3.10/dist-packages (from torch>=1.0.0->fastai==1.0.57->inltk) (1.12)\n",
            "Requirement already satisfied: networkx in /usr/local/lib/python3.10/dist-packages (from torch>=1.0.0->fastai==1.0.57->inltk) (3.2.1)\n",
            "Requirement already satisfied: fsspec in /usr/local/lib/python3.10/dist-packages (from torch>=1.0.0->fastai==1.0.57->inltk) (2023.6.0)\n",
            "Requirement already satisfied: triton==2.1.0 in /usr/local/lib/python3.10/dist-packages (from torch>=1.0.0->fastai==1.0.57->inltk) (2.1.0)\n",
            "Requirement already satisfied: click<9.0.0,>=7.1.1 in /usr/local/lib/python3.10/dist-packages (from typer<0.10.0,>=0.3.0->spacy>=2.0.18->inltk) (8.1.7)\n",
            "Requirement already satisfied: cloudpathlib<0.17.0,>=0.7.0 in /usr/local/lib/python3.10/dist-packages (from weasel<0.4.0,>=0.1.0->spacy>=2.0.18->inltk) (0.16.0)\n",
            "Requirement already satisfied: MarkupSafe>=2.0 in /usr/local/lib/python3.10/dist-packages (from jinja2->spacy>=2.0.18->inltk) (2.1.5)\n",
            "Requirement already satisfied: mpmath>=0.19 in /usr/local/lib/python3.10/dist-packages (from sympy->torch>=1.0.0->fastai==1.0.57->inltk) (1.3.0)\n",
            "Building wheels for collected packages: nvidia-ml-py3, typing\n",
            "  Building wheel for nvidia-ml-py3 (setup.py) ... \u001b[?25l\u001b[?25hdone\n",
            "  Created wheel for nvidia-ml-py3: filename=nvidia_ml_py3-7.352.0-py3-none-any.whl size=19171 sha256=dc27d4bd96a25c54bdfdcb2de636facf0e487fbb0b43ac1dbe0bb6bb65895c0c\n",
            "  Stored in directory: /root/.cache/pip/wheels/5c/d8/c0/46899f8be7a75a2ffd197a23c8797700ea858b9b34819fbf9e\n",
            "  Building wheel for typing (setup.py) ... \u001b[?25l\u001b[?25hdone\n",
            "  Created wheel for typing: filename=typing-3.7.4.3-py3-none-any.whl size=26304 sha256=831c2d1d5892f9f7fef7974e809e90786a24d4d997181ea171abfc9d228ee75c\n",
            "  Stored in directory: /root/.cache/pip/wheels/7c/d0/9e/1f26ebb66d9e1732e4098bc5a6c2d91f6c9a529838f0284890\n",
            "Successfully built nvidia-ml-py3 typing\n",
            "Installing collected packages: nvidia-ml-py3, typing, bottleneck, fastai, inltk\n",
            "  Attempting uninstall: fastai\n",
            "    Found existing installation: fastai 2.7.14\n",
            "    Uninstalling fastai-2.7.14:\n",
            "      Successfully uninstalled fastai-2.7.14\n",
            "Successfully installed bottleneck-1.3.7 fastai-1.0.57 inltk-0.9 nvidia-ml-py3-7.352.0 typing-3.7.4.3\n"
          ]
        },
        {
          "output_type": "display_data",
          "data": {
            "application/vnd.colab-display-data+json": {
              "pip_warning": {
                "packages": [
                  "typing"
                ]
              }
            }
          },
          "metadata": {}
        }
      ]
    },
    {
      "cell_type": "code",
      "source": [
        "!python -c"
      ],
      "metadata": {
        "colab": {
          "base_uri": "https://localhost:8080/"
        },
        "id": "eg4HCosJOaRU",
        "outputId": "191fa5d8-b86b-4d14-e6b5-49a17d875c03"
      },
      "execution_count": 15,
      "outputs": [
        {
          "output_type": "stream",
          "name": "stdout",
          "text": [
            "Argument expected for the -c option\n",
            "usage: python3 [option] ... [-c cmd | -m mod | file | -] [arg] ...\n",
            "Try `python -h' for more information.\n"
          ]
        }
      ]
    },
    {
      "cell_type": "markdown",
      "source": [
        "TAMIL TOKENIZER"
      ],
      "metadata": {
        "id": "li7Yu3Y2TpXW"
      }
    },
    {
      "cell_type": "code",
      "source": [
        "text=\"பறவைகள் ராஜாங்கத்தின் இனிமையான ஓசைகள் காலை காற்றில் கலந்து, ஒரு புதிய நாளின் தொடக்கத்தை அறிவித்தன.  மலர்கள் மலர்ந்து, தேனீக்கள் மகிழ்வுடன் ரீங்காரம் செய்தன. அமைதியான கிராமத்தில், வாழ்க்கை மெதுவாகவும், அமைதியாகவும் தொடங்கியது.\"\n",
        "word_tokns=word_tokenize(text)\n",
        "sent_tokns=sent_tokenize(text)\n",
        "print(\"/nSentence tokens\\n\")\n",
        "for i in sent_tokns:\n",
        "  print(i)\n",
        "print(\"\\n\\nWord tokens\\n\")\n",
        "for i in word_tokns:\n",
        "  print(i)"
      ],
      "metadata": {
        "colab": {
          "base_uri": "https://localhost:8080/"
        },
        "id": "mMIpzn8sPiRb",
        "outputId": "233c5e3f-e5c1-4e3b-ca89-ff70f8aaea46"
      },
      "execution_count": 27,
      "outputs": [
        {
          "output_type": "stream",
          "name": "stdout",
          "text": [
            "/nSentence tokens\n",
            "\n",
            "பறவைகள் ராஜாங்கத்தின் இனிமையான ஓசைகள் காலை காற்றில் கலந்து, ஒரு புதிய நாளின் தொடக்கத்தை அறிவித்தன.\n",
            "மலர்கள் மலர்ந்து, தேனீக்கள் மகிழ்வுடன் ரீங்காரம் செய்தன.\n",
            "அமைதியான கிராமத்தில், வாழ்க்கை மெதுவாகவும், அமைதியாகவும் தொடங்கியது.\n",
            "\n",
            "\n",
            "Word tokens\n",
            "\n",
            "பறவைகள்\n",
            "ராஜாங்கத்தின்\n",
            "இனிமையான\n",
            "ஓசைகள்\n",
            "காலை\n",
            "காற்றில்\n",
            "கலந்து\n",
            ",\n",
            "ஒரு\n",
            "புதிய\n",
            "நாளின்\n",
            "தொடக்கத்தை\n",
            "அறிவித்தன\n",
            ".\n",
            "மலர்கள்\n",
            "மலர்ந்து\n",
            ",\n",
            "தேனீக்கள்\n",
            "மகிழ்வுடன்\n",
            "ரீங்காரம்\n",
            "செய்தன\n",
            ".\n",
            "அமைதியான\n",
            "கிராமத்தில்\n",
            ",\n",
            "வாழ்க்கை\n",
            "மெதுவாகவும்\n",
            ",\n",
            "அமைதியாகவும்\n",
            "தொடங்கியது\n",
            ".\n"
          ]
        }
      ]
    }
  ]
}